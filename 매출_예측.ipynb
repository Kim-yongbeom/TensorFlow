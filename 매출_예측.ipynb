{
  "nbformat": 4,
  "nbformat_minor": 0,
  "metadata": {
    "colab": {
      "provenance": [],
      "collapsed_sections": [],
      "authorship_tag": "ABX9TyOGKbrD/ZbAgVUsdmzi8reV",
      "include_colab_link": true
    },
    "kernelspec": {
      "name": "python3",
      "display_name": "Python 3"
    },
    "language_info": {
      "name": "python"
    },
    "accelerator": "GPU"
  },
  "cells": [
    {
      "cell_type": "markdown",
      "metadata": {
        "id": "view-in-github",
        "colab_type": "text"
      },
      "source": [
        "<a href=\"https://colab.research.google.com/github/Kim-yongbeom/TensorFlow/blob/main/%EB%A7%A4%EC%B6%9C_%EC%98%88%EC%B8%A1.ipynb\" target=\"_parent\"><img src=\"https://colab.research.google.com/assets/colab-badge.svg\" alt=\"Open In Colab\"/></a>"
      ]
    },
    {
      "cell_type": "code",
      "source": [
        "import tensorflow as tf"
      ],
      "metadata": {
        "id": "kBRL59--YX88"
      },
      "execution_count": 14,
      "outputs": []
    },
    {
      "cell_type": "code",
      "source": [
        "print(tf.__version__)"
      ],
      "metadata": {
        "colab": {
          "base_uri": "https://localhost:8080/"
        },
        "id": "FtrR-N9PXYO_",
        "outputId": "0acb7517-6560-4726-b591-ed47e633c920"
      },
      "execution_count": 15,
      "outputs": [
        {
          "output_type": "stream",
          "name": "stdout",
          "text": [
            "2.8.2\n"
          ]
        }
      ]
    },
    {
      "cell_type": "code",
      "source": [
        "dataX = [1, 2, 3, 4, 5, 6, 7, 8, 9, 10]\n",
        "dataY = [9500, 11000, 19500, 28000, 42500, 51000, 60000, 75000, 86500, 90000]\n",
        "weight = tf.Variable(tf.random.uniform([1], -100, 100))\n",
        "bias = tf.Variable(tf.random.uniform([1], -100, 100))\n",
        "X = tf.compat.v1.placeholder(tf.float32)\n",
        "Y = tf.compat.v1.placeholder(tf.float32)\n",
        "hypothesis = weight * X + bias\n",
        "cost = tf.reduce_mean(tf.square(hypothesis - Y))\n",
        "jump = tf.Variable(0.01)\n",
        "optimizer = tf.compat.v1.train.GradientDescentOptimizer(jump)\n",
        "train = optimizer.minimize(cost)\n",
        "init = tf.compat.v1.global_variables_initializer()\n",
        "session = tf.compat.v1.Session()\n",
        "session.run(init)\n",
        "\n",
        "for i in range(5001):\n",
        "    session.run(train, feed_dict={X: dataX, Y: dataY})\n",
        "    if i % 500 == 0:\n",
        "        print (i, session.run(cost, feed_dict={X: dataX, Y: dataY}), session.run(weight), session.run(bias))\n",
        "\n",
        "print(session.run(hypothesis, feed_dict={X: [10]}))\n"
      ],
      "metadata": {
        "id": "hkrn4hdOJTJv",
        "colab": {
          "base_uri": "https://localhost:8080/"
        },
        "outputId": "1ab71b3e-4e40-48ad-dcf9-cc8bbde205a8"
      },
      "execution_count": 17,
      "outputs": [
        {
          "output_type": "stream",
          "name": "stdout",
          "text": [
            "0 165343180.0 [6833.4565] [1017.6978]\n",
            "500 11871229.0 [9760.478] [-6165.376]\n",
            "1000 11645230.0 [9890.969] [-7073.834]\n",
            "1500 11641866.0 [9906.882] [-7184.616]\n",
            "2000 11641819.0 [9908.821] [-7198.124]\n",
            "2500 11641821.0 [9909.058] [-7199.7676]\n",
            "3000 11641827.0 [9909.081] [-7199.934]\n",
            "3500 11641827.0 [9909.081] [-7199.934]\n",
            "4000 11641827.0 [9909.081] [-7199.934]\n",
            "4500 11641827.0 [9909.081] [-7199.934]\n",
            "5000 11641827.0 [9909.081] [-7199.934]\n",
            "[91890.875]\n"
          ]
        }
      ]
    },
    {
      "cell_type": "code",
      "source": [],
      "metadata": {
        "id": "HiuhqAqHs8N_"
      },
      "execution_count": null,
      "outputs": []
    }
  ]
}